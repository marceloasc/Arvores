{
  "nbformat": 4,
  "nbformat_minor": 0,
  "metadata": {
    "colab": {
      "name": "ArvoreAvl.ipynb",
      "provenance": [],
      "collapsed_sections": [],
      "include_colab_link": true
    },
    "kernelspec": {
      "name": "python3",
      "display_name": "Python 3"
    },
    "language_info": {
      "name": "python"
    }
  },
  "cells": [
    {
      "cell_type": "markdown",
      "metadata": {
        "id": "view-in-github",
        "colab_type": "text"
      },
      "source": [
        "<a href=\"https://colab.research.google.com/github/marceloasc/Estrutura_de_Dados_Avancadas/blob/main/ArvoreAvl.ipynb\" target=\"_parent\"><img src=\"https://colab.research.google.com/assets/colab-badge.svg\" alt=\"Open In Colab\"/></a>"
      ]
    },
    {
      "cell_type": "code",
      "source": [
        "from pyparsing.core import White\n",
        "import networkx as nx\n",
        "from networkx.drawing.nx_pydot import graphviz_layout"
      ],
      "metadata": {
        "id": "47j_ECC4zI2n"
      },
      "execution_count": null,
      "outputs": []
    },
    {
      "cell_type": "code",
      "source": [
        "class NoAvl:\n",
        "\n",
        "  def __init__(self, info=None, dir=None, esq=None, pai=None, hd=0, he=0, balanco=0): \n",
        "      self.info = info\n",
        "      self.dir = dir\n",
        "      self.esq = esq\n",
        "      self.pai = pai\n",
        "      self.hd = hd\n",
        "      self.he = he\n",
        "      self.balanco = balanco\n",
        "\n",
        "\n",
        "\n",
        "  def calc_he(self, no):\n",
        "    if no == None:\n",
        "      return\n",
        "    else:\n",
        "      self.he += 1\n",
        "      self.calc_he(no.esq)\n",
        "   \n",
        "\n",
        "\n",
        "  def calc_hd(self, no):\n",
        "    if no == None:\n",
        "      return\n",
        "    else:\n",
        "      self.hd += 1\n",
        "      self.calc_hd(no.dir)"
      ],
      "metadata": {
        "id": "wmrVIlJ5B8cq"
      },
      "execution_count": null,
      "outputs": []
    },
    {
      "cell_type": "code",
      "execution_count": null,
      "metadata": {
        "id": "_ruArJNXjbIQ"
      },
      "outputs": [],
      "source": [
        "class ArvoreAvl:\n",
        "  \n",
        "  def __init__(self):\n",
        "    self.raiz = None\n",
        "    self.view = nx.DiGraph()\n",
        "\n",
        "\n",
        "\n",
        "  def inserir(self, No, raiz):\n",
        "\n",
        "    if raiz is None: \n",
        "      self.raiz = No\n",
        "      self.view.add_node(No.info)\n",
        "      self.raiz.pai = None\n",
        "\n",
        "    else:\n",
        "      if No.info < raiz.info: \n",
        "        if raiz.esq is None: \n",
        "          raiz.esq = No\n",
        "          raiz.esq.pai = raiz\n",
        "          self.monitora_balanco(self.raiz.esq) \n",
        "          self.view.add_edge(raiz.info, No.info)\n",
        "        else:\n",
        "          self.inserir(No, raiz.esq) \n",
        "\n",
        "      elif No.info > raiz.info:\n",
        "        if raiz.dir is None:\n",
        "          raiz.dir = No\n",
        "          raiz.dir.pai = raiz\n",
        "          self.monitora_balanco(self.raiz.dir)\n",
        "          self.view.add_edge(raiz.info, No.info)\n",
        "        else:\n",
        "          self.inserir(No, raiz.dir)\n",
        "\n",
        "\n",
        "  \n",
        "  def rotacao_simples_esquerda(self, pivo):\n",
        "    if pivo == self.raiz: \n",
        "      if self.raiz.dir.esq is None: \n",
        "        self.raiz = pivo.dir \n",
        "        self.raiz.esq = pivo\n",
        "        self.raiz.esq.pai = self.raiz\n",
        "        self.raiz.pai = None\n",
        "        self.raiz.esq.dir = None\n",
        "      else:\n",
        "        filho_esquerdo_raiz = self.raiz.dir.esq \n",
        "        filho_esquerdo_raiz.pai = pivo\n",
        "        self.raiz = pivo.dir\n",
        "        self.raiz.esq = pivo\n",
        "        self.raiz.esq.pai = self.raiz\n",
        "        self.raiz.esq.dir = filho_esquerdo_raiz\n",
        "        self.raiz.pai = None\n",
        "    else:\n",
        "      pai_pivo = pivo.pai\n",
        "      pivo_esq = pivo\n",
        "      pivo = pivo.dir\n",
        "      pivo.esq = pivo_esq\n",
        "      pivo.pai = pai_pivo\n",
        "      pivo.pai.dir = pivo\n",
        "      pivo.esq.pai = pivo\n",
        "      pivo.esq.dir = None\n",
        "\n",
        "\n",
        "\n",
        "  def rotacao_simples_direita(self, pivo):\n",
        "    if pivo == self.raiz:\n",
        "      if self.raiz.esq.dir is None:\n",
        "        self.raiz = pivo.esq\n",
        "        self.raiz.dir = pivo\n",
        "        self.raiz.dir.pai = self.raiz\n",
        "        self.raiz.pai = None\n",
        "        self.raiz.dir.esq = None\n",
        "      else:\n",
        "        filho_direito_raiz = self.raiz.esq.dir\n",
        "        filho_direito_raiz.pai = pivo\n",
        "        self.raiz = pivo.esq\n",
        "        self.raiz.dir = pivo\n",
        "        self.raiz.dir.pai = self.raiz\n",
        "        self.raiz.dir.esq = filho_direito_raiz\n",
        "        self.raiz.pai = None\n",
        "    else:\n",
        "      pai_pivo = pivo.pai\n",
        "      pivo_dir = pivo\n",
        "      pivo = pivo.esq\n",
        "      pivo.dir = pivo_dir\n",
        "      pivo.pai = pai_pivo\n",
        "      pivo.pai.esq = pivo\n",
        "      pivo.dir.pai = pivo\n",
        "      pivo.dir.esq = None\n",
        "\n",
        "\n",
        "\n",
        "  def monitora_balanco(self, no): \n",
        "    self.raiz.calc_he(self.raiz.esq)\n",
        "    self.raiz.calc_hd(self.raiz.dir)\n",
        "    self.raiz.balanco = self.raiz.he-self.raiz.hd\n",
        "\n",
        "    if self.raiz.balanco >= 2 or self.raiz.balanco <= -2: \n",
        "      self.encontra_pivo(no)\n",
        "    else: \n",
        "      self.raiz.he = 0\n",
        "      self.raiz.hd = 0\n",
        "      self.raiz.balanco = 0 \n",
        "    \n",
        "\n",
        "\n",
        "  def encontra_pivo(self, no):\n",
        "    no.calc_he(no.esq)\n",
        "    no.calc_hd(no.dir)\n",
        "    no.balanco = no.he-no.hd \n",
        "\n",
        "    if no.balanco > 0: \n",
        "      no.balanco -= 1 \n",
        "    else:\n",
        "      no.balanco += 1\n",
        "\n",
        "    if no.esq != None or no.dir != None: \n",
        "\n",
        "      if no.balanco != 0:\n",
        "\n",
        "        if no.info < self.raiz.info or no.he > no.hd:\n",
        "          print(f'A ARVORE ESTÁ DESBALANCEADA! ROTAÇÃO SIMPLES À DIREITA NO PIVÔ {no.info}')\n",
        "          print()\n",
        "          self.rotacao_simples_direita(no)\n",
        "        else:\n",
        "          print(f'A ARVORE ESTÁ DESBALANCEADA! ROTAÇÃO SIMPLES À ESQUERDA NO PIVÔ {no.info}')\n",
        "          print()\n",
        "          self.rotacao_simples_esquerda(no)\n",
        "        return \n",
        "\n",
        "      else:\n",
        "        no.he = 0\n",
        "        no.hd = 0\n",
        "        no.balanco = 0 \n",
        "        self.encontra_pivo(no.pai)\n",
        "\n",
        "    else:\n",
        "      no.he = 0\n",
        "      no.hd = 0\n",
        "      no.balanco = 0 \n",
        "      self.encontra_pivo(no.pai)\n",
        "\n",
        "\n",
        "\n",
        "  def imprimir(self):\n",
        "    pos = graphviz_layout(self.view, prog=\"dot\")\n",
        "    return nx.draw(self.view, pos, with_labels=True, \n",
        "                   arrows=True, node_size=1500, arrowsize=30, \n",
        "                   font_size=20, font_color=\"whitesmoke\")\n",
        "    "
      ]
    },
    {
      "cell_type": "markdown",
      "source": [
        "# EXEMPLO DE ROTAÇÃO SIMPLES À DIREITA"
      ],
      "metadata": {
        "id": "wuMpr3DZz9iV"
      }
    },
    {
      "cell_type": "code",
      "source": [
        "arvore = ArvoreAvl()\n",
        "\n",
        "arvore.inserir(NoAvl(10), arvore.raiz)\n",
        "arvore.inserir(NoAvl(8), arvore.raiz)\n",
        "arvore.inserir(NoAvl(30), arvore.raiz)\n",
        "\n",
        "arvore.inserir(NoAvl(5), arvore.raiz)\n",
        "arvore.inserir(NoAvl(9), arvore.raiz)\n",
        "\n",
        "arvore.inserir(NoAvl(3), arvore.raiz)\n",
        "\n",
        "\n",
        "arvore.imprimir()"
      ],
      "metadata": {
        "id": "T7DIb8s26kJW",
        "colab": {
          "base_uri": "https://localhost:8080/",
          "height": 354
        },
        "outputId": "cb4cd544-5923-4865-ebed-087ad259377c"
      },
      "execution_count": null,
      "outputs": [
        {
          "output_type": "stream",
          "name": "stdout",
          "text": [
            "A ARVORE ESTÁ DESBALANCEADA! ROTAÇÃO SIMPLES À DIREITA NO PIVÔ 10\n",
            "\n"
          ]
        },
        {
          "output_type": "display_data",
          "data": {
            "text/plain": [
              "<Figure size 432x288 with 1 Axes>"
            ],
            "image/png": "[encoded data removed]"
          },
          "metadata": {}
        }
      ]
    },
    {
      "cell_type": "code",
      "source": [
        "print(\"APÓS A ROTAÇÃO:\")\n",
        "print()\n",
        "\n",
        "nova_arvore = nx.DiGraph()\n",
        "\n",
        "def reescreve_arvore(nova_arvore, arvore, raiz):\n",
        "\n",
        "    if not raiz:\n",
        "         return\n",
        "         \n",
        "    if raiz == arvore.raiz:\n",
        "      nova_arvore.add_node(raiz.info),\n",
        "      reescreve_arvore(nova_arvore, arvore, raiz.esq)\n",
        "      reescreve_arvore(nova_arvore, arvore, raiz.dir)\n",
        "    else:\n",
        "      nova_arvore.add_edge(raiz.pai.info, raiz.info),\n",
        "      reescreve_arvore(nova_arvore, arvore, raiz.esq)\n",
        "      reescreve_arvore(nova_arvore, arvore, raiz.dir)\n",
        "\n",
        "reescreve_arvore(nova_arvore, arvore, arvore.raiz)\n",
        "\n",
        "pos = graphviz_layout(nova_arvore, prog=\"dot\")\n",
        "nx.draw(nova_arvore, pos, with_labels=True, arrows=True, \n",
        "                   node_size=1500, arrowsize=30, \n",
        "                   font_size=20, font_color=\"whitesmoke\")"
      ],
      "metadata": {
        "id": "g_ipDmEeGiIc",
        "colab": {
          "base_uri": "https://localhost:8080/",
          "height": 354
        },
        "outputId": "94dddc85-4c56-4d17-fe07-29263d7df85b"
      },
      "execution_count": null,
      "outputs": [
        {
          "output_type": "stream",
          "name": "stdout",
          "text": [
            "APÓS A ROTAÇÃO:\n",
            "\n"
          ]
        },
        {
          "output_type": "display_data",
          "data": {
            "text/plain": [
              "<Figure size 432x288 with 1 Axes>"
            ],
            "image/png": "[encoded data removed]"
          },
          "metadata": {}
        }
      ]
    },
    {
      "cell_type": "markdown",
      "source": [
        "# EXEMPLO DE ROTAÇÃO SIMPLES À ESQUERDA"
      ],
      "metadata": {
        "id": "SPdiiFpd_1n7"
      }
    },
    {
      "cell_type": "code",
      "source": [
        "arvore = ArvoreAvl()\n",
        "\n",
        "arvore.inserir(NoAvl(10), arvore.raiz)\n",
        "arvore.inserir(NoAvl(8), arvore.raiz)\n",
        "arvore.inserir(NoAvl(30), arvore.raiz)\n",
        "\n",
        "#arvore.inserir(NoAvl(25), arvore.raiz)\n",
        "arvore.inserir(NoAvl(39), arvore.raiz)\n",
        "\n",
        "arvore.inserir(NoAvl(40), arvore.raiz)\n",
        "\n",
        "arvore.imprimir()"
      ],
      "metadata": {
        "colab": {
          "base_uri": "https://localhost:8080/",
          "height": 354
        },
        "outputId": "1a041e14-8b76-4234-c649-bc7d33cbe39e",
        "id": "PQRGxfccpCii"
      },
      "execution_count": null,
      "outputs": [
        {
          "output_type": "stream",
          "name": "stdout",
          "text": [
            "A ARVORE ESTÁ DESBALANCEADA! ROTAÇÃO SIMPLES À ESQUERDA NO PIVÔ 30\n",
            "\n"
          ]
        },
        {
          "output_type": "display_data",
          "data": {
            "text/plain": [
              "<Figure size 432x288 with 1 Axes>"
            ],
            "image/png": "[encoded data removed]"
          },
          "metadata": {}
        }
      ]
    },
    {
      "cell_type": "code",
      "source": [
        "print(\"APÓS A ROTAÇÃO:\")\n",
        "print()\n",
        "\n",
        "nova_arvore = nx.DiGraph()\n",
        "\n",
        "def reescreve_arvore(nova_arvore, arvore, raiz):\n",
        "\n",
        "  if not raiz:\n",
        "        return\n",
        "        \n",
        "  if raiz == arvore.raiz:\n",
        "    nova_arvore.add_node(raiz.info),\n",
        "    reescreve_arvore(nova_arvore, arvore, raiz.esq)\n",
        "    reescreve_arvore(nova_arvore, arvore, raiz.dir)\n",
        "  else:\n",
        "    nova_arvore.add_edge(raiz.pai.info, raiz.info),\n",
        "    reescreve_arvore(nova_arvore, arvore, raiz.esq)\n",
        "    reescreve_arvore(nova_arvore, arvore, raiz.dir)\n",
        "\n",
        "\n",
        "\n",
        "reescreve_arvore(nova_arvore, arvore, arvore.raiz)\n",
        "\n",
        "pos = graphviz_layout(nova_arvore, prog=\"dot\")\n",
        "nx.draw(nova_arvore, pos, with_labels=True, arrows=True, \n",
        "                   node_size=1500, arrowsize=30, \n",
        "                   font_size=20, font_color=\"whitesmoke\")"
      ],
      "metadata": {
        "id": "onW7Bo1hpI0m",
        "colab": {
          "base_uri": "https://localhost:8080/",
          "height": 354
        },
        "outputId": "3b9f468f-a6e9-451d-ab28-89d797801cd9"
      },
      "execution_count": null,
      "outputs": [
        {
          "output_type": "stream",
          "name": "stdout",
          "text": [
            "APÓS A ROTAÇÃO:\n",
            "\n"
          ]
        },
        {
          "output_type": "display_data",
          "data": {
            "text/plain": [
              "<Figure size 432x288 with 1 Axes>"
            ],
            "image/png": "[encoded data removed]"
          },
          "metadata": {}
        }
      ]
    }
  ]
}